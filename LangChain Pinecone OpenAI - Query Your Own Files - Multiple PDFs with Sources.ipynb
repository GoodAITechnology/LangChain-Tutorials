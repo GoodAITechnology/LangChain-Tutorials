{
 "cells": [
  {
   "cell_type": "markdown",
   "id": "1cb10631",
   "metadata": {},
   "source": [
    "# LangChain Pinecone OpenAI - Query Multiple PDF Files + Cite Source Documents \n",
    "\n",
    "#### This notebook walks through the basics of using Pinecone, OpenAI and LangChain to query your own text document \n"
   ]
  },
  {
   "cell_type": "markdown",
   "id": "d1f0fc55",
   "metadata": {},
   "source": [
    "## pip install dependencies"
   ]
  },
  {
   "cell_type": "code",
   "execution_count": null,
   "id": "9ccdca33",
   "metadata": {},
   "outputs": [],
   "source": [
    "pip install langChain"
   ]
  },
  {
   "cell_type": "code",
   "execution_count": null,
   "id": "31a6aaee",
   "metadata": {},
   "outputs": [],
   "source": [
    "pip install OpenAI"
   ]
  },
  {
   "cell_type": "code",
   "execution_count": null,
   "id": "7164d0c5",
   "metadata": {},
   "outputs": [],
   "source": [
    "pip install pinecone-client"
   ]
  },
  {
   "cell_type": "code",
   "execution_count": null,
   "id": "c241e26c",
   "metadata": {},
   "outputs": [],
   "source": [
    "pip install tiktoken"
   ]
  },
  {
   "cell_type": "markdown",
   "id": "15c679b5",
   "metadata": {},
   "source": [
    "### Set environment variables and keys"
   ]
  },
  {
   "cell_type": "code",
   "execution_count": 1,
   "id": "d24cdaf9",
   "metadata": {},
   "outputs": [],
   "source": [
    "# KEYS, MODELS and ENV Related Settings \n",
    "\n",
    "import os\n",
    "os.environ[\"OPENAI_API_KEY\"] = \"\"\n",
    "OPENAI_API_KEY = os.environ[\"OPENAI_API_KEY\"]\n",
    "\n",
    "embed_model = \"text-embedding-ada-002\"\n",
    "\n",
    "os.environ[\"PINECONE_API_KEY\"] = \"\"\n",
    "PINECONE_API_KEY = os.environ['PINECONE_API_KEY']\n",
    "PINECONE_ENV = \"us-west4-gcp-free\"\n"
   ]
  },
  {
   "cell_type": "markdown",
   "id": "5f81cc94",
   "metadata": {},
   "source": [
    "### Import required modules"
   ]
  },
  {
   "cell_type": "code",
   "execution_count": 2,
   "id": "cf868f47",
   "metadata": {},
   "outputs": [
    {
     "name": "stderr",
     "output_type": "stream",
     "text": [
      "/Users/moni/opt/anaconda3/lib/python3.8/site-packages/pinecone/index.py:4: TqdmExperimentalWarning: Using `tqdm.autonotebook.tqdm` in notebook mode. Use `tqdm.tqdm` instead to force console mode (e.g. in jupyter console)\n",
      "  from tqdm.autonotebook import tqdm\n"
     ]
    }
   ],
   "source": [
    "import openai, langchain, pinecone\n",
    "\n",
    "\n",
    "from langchain.document_loaders import DirectoryLoader, TextLoader,UnstructuredPDFLoader, OnlinePDFLoader, PyPDFLoader\n",
    "from langchain.text_splitter import RecursiveCharacterTextSplitter\n",
    "\n",
    "from langchain.embeddings.openai import OpenAIEmbeddings\n",
    "from langchain.vectorstores import Pinecone\n",
    "\n",
    "from langchain.llms import OpenAI\n",
    "\n",
    "from langchain.chains.question_answering import load_qa_chain\n",
    "from langchain.chains import RetrievalQA"
   ]
  },
  {
   "cell_type": "markdown",
   "id": "2c64b8ec",
   "metadata": {},
   "source": [
    "### Import your own text file"
   ]
  },
  {
   "cell_type": "code",
   "execution_count": 3,
   "id": "2b0efff8",
   "metadata": {},
   "outputs": [],
   "source": [
    "# Open the data file and read its content\n",
    "\n",
    "loader = DirectoryLoader('../data/GenAIReports', glob=\"./*.pdf\", loader_cls=PyPDFLoader)\n",
    "documents = loader.load()\n"
   ]
  },
  {
   "cell_type": "markdown",
   "id": "5d9b84d9",
   "metadata": {},
   "source": [
    "### Split the text using RecursiveCharacterTextSplitter to be able to work with the 4096 OpenAI token limit"
   ]
  },
  {
   "cell_type": "code",
   "execution_count": 4,
   "id": "df26611a",
   "metadata": {},
   "outputs": [],
   "source": [
    "# Set up the RecursiveCharacterTextSplitter, then Split the documents\n",
    "\n",
    "text_splitter = RecursiveCharacterTextSplitter(chunk_size=1000, chunk_overlap=200)\n",
    "texts = text_splitter.split_documents(documents)"
   ]
  },
  {
   "cell_type": "code",
   "execution_count": 5,
   "id": "566a6a29",
   "metadata": {},
   "outputs": [
    {
     "data": {
      "text/plain": [
       "list"
      ]
     },
     "execution_count": 5,
     "metadata": {},
     "output_type": "execute_result"
    }
   ],
   "source": [
    "type(texts)"
   ]
  },
  {
   "cell_type": "code",
   "execution_count": 12,
   "id": "9941b549",
   "metadata": {},
   "outputs": [
    {
     "data": {
      "text/plain": [
       "336"
      ]
     },
     "execution_count": 12,
     "metadata": {},
     "output_type": "execute_result"
    }
   ],
   "source": [
    "len(texts)"
   ]
  },
  {
   "cell_type": "code",
   "execution_count": 7,
   "id": "84b1c7a9",
   "metadata": {},
   "outputs": [
    {
     "data": {
      "text/plain": [
       "Document(page_content='How customer operations \\ncould be transformed\\nCustomer self-service interactions\\nCustomer interacts with a humanlike chatbot that \\ndelivers immediate, personalized responses to complex inquiries, ensuring a consistent brand voice regardless of customer language or location. \\nCustomer–agent interactions\\nHuman agent uses AI-developed call scripts and receives real-time assistance and suggestions for responses during phone conversations, instantly accessing relevant customer data for tailored and real-time information delivery. \\nAgent self-improvement\\nAgent receives a summarization of the conversation in a few succinct points to create a record of customer complaints and actions taken.\\nAgent uses automated, personalized insights generated \\nby AI, including tailored follow-up messages or personalized coaching suggestions. \\n14 The economic potential of generative AI: The next productivity frontier', metadata={'source': '../data/GenAIReports/McKinsey-the-economic-potential-of-generative-ai-the-next-productivity-frontier-vf.pdf', 'page': 15})"
      ]
     },
     "execution_count": 7,
     "metadata": {},
     "output_type": "execute_result"
    }
   ],
   "source": [
    "texts[100]"
   ]
  },
  {
   "cell_type": "code",
   "execution_count": 8,
   "id": "b0b0c1b8",
   "metadata": {},
   "outputs": [
    {
     "data": {
      "text/plain": [
       "{'source': '../data/GenAIReports/McKinsey-the-economic-potential-of-generative-ai-the-next-productivity-frontier-vf.pdf',\n",
       " 'page': 15}"
      ]
     },
     "execution_count": 8,
     "metadata": {},
     "output_type": "execute_result"
    }
   ],
   "source": [
    "texts[100].metadata"
   ]
  },
  {
   "cell_type": "code",
   "execution_count": 9,
   "id": "7074ff90",
   "metadata": {},
   "outputs": [
    {
     "data": {
      "text/plain": [
       "'../data/GenAIReports/McKinsey-the-economic-potential-of-generative-ai-the-next-productivity-frontier-vf.pdf'"
      ]
     },
     "execution_count": 9,
     "metadata": {},
     "output_type": "execute_result"
    }
   ],
   "source": [
    "texts[100].metadata['source']"
   ]
  },
  {
   "cell_type": "markdown",
   "id": "ced729ba",
   "metadata": {},
   "source": [
    "### Pinecone and OpenAI Embedding setup"
   ]
  },
  {
   "cell_type": "code",
   "execution_count": 10,
   "id": "bec5c91b",
   "metadata": {},
   "outputs": [],
   "source": [
    "# Pinecone related setup\n",
    "\n",
    "pinecone.init(\n",
    "        api_key = PINECONE_API_KEY,\n",
    "        environment = PINECONE_ENV\n",
    ")\n",
    "\n",
    "# Set the index name for this project in pinecone first\n",
    "\n",
    "index_name = 'generative-ai-reports'\n"
   ]
  },
  {
   "cell_type": "code",
   "execution_count": 11,
   "id": "50245546",
   "metadata": {},
   "outputs": [
    {
     "data": {
      "text/plain": [
       "{'dimension': 1536,\n",
       " 'index_fullness': 0.0,\n",
       " 'namespaces': {'': {'vector_count': 336}},\n",
       " 'total_vector_count': 336}"
      ]
     },
     "execution_count": 11,
     "metadata": {},
     "output_type": "execute_result"
    }
   ],
   "source": [
    "# Examine pinecone index. Delete all vectors, if you want to start fresh\n",
    "\n",
    "index = pinecone.Index(index_name)\n",
    "index.describe_index_stats()\n",
    "#index.delete(deleteAll='true', namespace='')"
   ]
  },
  {
   "cell_type": "code",
   "execution_count": 13,
   "id": "eacf9bc4",
   "metadata": {},
   "outputs": [],
   "source": [
    "# Prepare the embedding so that we can pass it to the pinecone call in the next step\n",
    "\n",
    "embeddings = OpenAIEmbeddings(openai_api_key=OPENAI_API_KEY)\n"
   ]
  },
  {
   "cell_type": "code",
   "execution_count": 14,
   "id": "81a5f157",
   "metadata": {},
   "outputs": [],
   "source": [
    "# Create the vector store from the texts\n",
    "\n",
    "docsearch = Pinecone.from_documents(texts, embeddings, index_name = index_name)\n",
    "\n",
    "# for existing an vector store, use Pinecone.from_existing_index(index_name, embeddings)"
   ]
  },
  {
   "cell_type": "code",
   "execution_count": 15,
   "id": "2819398e",
   "metadata": {},
   "outputs": [
    {
     "name": "stdout",
     "output_type": "stream",
     "text": [
      "Index exists:  generative-ai-reports\n"
     ]
    }
   ],
   "source": [
    "# Don't run this cell\n",
    "\n",
    "if index_name not in pinecone.list_indexes():\n",
    "    print(\"Index does not exist: \", index_name)\n",
    "    # docsearch = Pinecone.from_documents(texts, embeddings, index_name = index_name)\n",
    "else:\n",
    "    print(\"Index exists: \", index_name)\n",
    "    # docsearch = Pinecone.from_existing_index(index_name, embeddings)\n"
   ]
  },
  {
   "cell_type": "code",
   "execution_count": 16,
   "id": "f58ef6ee",
   "metadata": {},
   "outputs": [
    {
     "data": {
      "text/plain": [
       "langchain.vectorstores.pinecone.Pinecone"
      ]
     },
     "execution_count": 16,
     "metadata": {},
     "output_type": "execute_result"
    }
   ],
   "source": [
    "type(docsearch)"
   ]
  },
  {
   "cell_type": "markdown",
   "id": "69a3601e",
   "metadata": {},
   "source": [
    "### Import  load_qa_chain from LangChain"
   ]
  },
  {
   "cell_type": "code",
   "execution_count": 17,
   "id": "4c59e569",
   "metadata": {},
   "outputs": [],
   "source": [
    "from langchain.chains.question_answering import load_qa_chain\n",
    "from langchain.chains import RetrievalQA"
   ]
  },
  {
   "cell_type": "code",
   "execution_count": 18,
   "id": "121f427c",
   "metadata": {},
   "outputs": [],
   "source": [
    "# set up the llm model to use with our chain/agent\n",
    "\n",
    "llm = OpenAI(temperature=0, openai_api_key=OPENAI_API_KEY)"
   ]
  },
  {
   "cell_type": "markdown",
   "id": "959007c8",
   "metadata": {},
   "source": [
    "### Ask questions to your document and get the answer"
   ]
  },
  {
   "cell_type": "code",
   "execution_count": 19,
   "id": "1e0aea62",
   "metadata": {},
   "outputs": [],
   "source": [
    "# Helper function to process the response from the QA chain \n",
    "# and isolate result and source docs and page numbers\n",
    "\n",
    "def parse_response(response):\n",
    "    print(response['result'])\n",
    "    print('\\n\\nSources:')\n",
    "    for source_name in response[\"source_documents\"]:\n",
    "        print(source_name.metadata['source'], \"page #:\", source_name.metadata['page'])"
   ]
  },
  {
   "cell_type": "code",
   "execution_count": 20,
   "id": "59eaa6a5",
   "metadata": {},
   "outputs": [],
   "source": [
    "# Set up the retriever on the pinecone vectorstore\n",
    "# Make sure to set include_metadata = True\n",
    "\n",
    "retriever = docsearch.as_retriever(include_metadata=True, metadata_key = 'source')"
   ]
  },
  {
   "cell_type": "code",
   "execution_count": 21,
   "id": "111b0462",
   "metadata": {},
   "outputs": [],
   "source": [
    "# Set up the RetrievalQA chain with the retriever\n",
    "# Make sure to set return_source_documents = True\n",
    "\n",
    "qa_chain = RetrievalQA.from_chain_type(llm=llm, \n",
    "                                  chain_type=\"stuff\", \n",
    "                                  retriever=retriever, \n",
    "                                  return_source_documents=True)\n"
   ]
  },
  {
   "cell_type": "code",
   "execution_count": 22,
   "id": "4093903d",
   "metadata": {},
   "outputs": [],
   "source": [
    "# Let's set up the query \n",
    "\n",
    "query = \"List all the use cases for Generative AI?\"\n"
   ]
  },
  {
   "cell_type": "code",
   "execution_count": 23,
   "id": "db8cf0f3",
   "metadata": {},
   "outputs": [],
   "source": [
    "# Call the QA chain to get the response\n",
    "\n",
    "response = qa_chain(query)"
   ]
  },
  {
   "cell_type": "code",
   "execution_count": 24,
   "id": "c78e47c0",
   "metadata": {},
   "outputs": [
    {
     "data": {
      "text/plain": [
       "dict"
      ]
     },
     "execution_count": 24,
     "metadata": {},
     "output_type": "execute_result"
    }
   ],
   "source": [
    "type(response)"
   ]
  },
  {
   "cell_type": "code",
   "execution_count": 26,
   "id": "78c16fec",
   "metadata": {},
   "outputs": [
    {
     "data": {
      "text/plain": [
       "{'query': 'List all the use cases for Generative AI?',\n",
       " 'result': ' Generative AI can have applications in customer self-service, IT, audit, human resources, operations, and many more business functions.',\n",
       " 'source_documents': [Document(page_content='The following are examples of the operational improvements generative AI can have for \\nspecific use cases:\\n —Cu\\nstomer self-service. Generative AI–fueled chatbots can give immediate and \\npersonalized responses to complex customer inquiries regardless of the language or location of the customer. By improving the quality and effectiveness of interactions via automated channels, generative AI could automate responses to a higher percentage of customer inquiries, enabling customer care teams to take on inquiries that can only be resolved by a human agent. Our research found that roughly half of customer contacts made by banking, telecommunications, and utilities companies in North America are already handled by machines, including but not exclusively AI. We estimate that generative AI could further reduce the volume of human-serviced contacts by up to 50 percent, depending on a company’s existing level of automation. \\n —R', metadata={'page': 16.0, 'source': '../data/GenAIReports/McKinsey-the-economic-potential-of-generative-ai-the-next-productivity-frontier-vf.pdf'}),\n",
       "  Document(page_content='The following are examples of the operational improvements generative AI can have for \\nspecific use cases:\\n —Cu\\nstomer self-service. Generative AI–fueled chatbots can give immediate and \\npersonalized responses to complex customer inquiries regardless of the language or location of the customer. By improving the quality and effectiveness of interactions via automated channels, generative AI could automate responses to a higher percentage of customer inquiries, enabling customer care teams to take on inquiries that can only be resolved by a human agent. Our research found that roughly half of customer contacts made by banking, telecommunications, and utilities companies in North America are already handled by machines, including but not exclusively AI. We estimate that generative AI could further reduce the volume of human-serviced contacts by up to 50 percent, depending on a company’s existing level of automation. \\n —R', metadata={'page': 16.0, 'source': '../data/GenAIReports/McKinsey-the-economic-potential-of-generative-ai-the-next-productivity-frontier-vf.pdf'}),\n",
       "  Document(page_content=\"Generative AI models may also have applications across IT , \\naudit, human resources, operations and many more business functions besides. As you explore these use cases, keep in mind that despite the many opportunities generative AI has to offer, they aren't risk free.05 Potential opportunities and use cases\\n12  h t t p s:/ / w w w .bing .com/new\\n13  h t t p s : / /openai.com/researc h/gpt-4\\n14   h t t p s:/ / w w w .theguardian.com/tec hnology/2023/feb/02/chatgpt-100-million-users-open-ai-fastest-growing-appThe basic version of ChatGPT isn’t connected to the internet and was trained on online material up to September 2021 meaning its knowledge isn’t up to date. Newer implementations released to a small number of premium developers, such as a plugin to Bing’s search engine,\\n12 are \\nconnected to the internet and contain more recent content.\\nChatGPT is an example of artificial narrow intelligence (ANI).\", metadata={'page': 6.0, 'source': '../data/GenAIReports/KPMG-generative-ai-models-the-risks-and-potential-rewards-in-business.pdf'}),\n",
       "  Document(page_content=\"Generative AI models may also have applications across IT , \\naudit, human resources, operations and many more business functions besides. As you explore these use cases, keep in mind that despite the many opportunities generative AI has to offer, they aren't risk free.05 Potential opportunities and use cases\\n12  h t t p s:/ / w w w .bing .com/new\\n13  h t t p s : / /openai.com/researc h/gpt-4\\n14   h t t p s:/ / w w w .theguardian.com/tec hnology/2023/feb/02/chatgpt-100-million-users-open-ai-fastest-growing-appThe basic version of ChatGPT isn’t connected to the internet and was trained on online material up to September 2021 meaning its knowledge isn’t up to date. Newer implementations released to a small number of premium developers, such as a plugin to Bing’s search engine,\\n12 are \\nconnected to the internet and contain more recent content.\\nChatGPT is an example of artificial narrow intelligence (ANI).\", metadata={'page': 6.0, 'source': '../data/GenAIReports/KPMG-generative-ai-models-the-risks-and-potential-rewards-in-business.pdf'})]}"
      ]
     },
     "execution_count": 26,
     "metadata": {},
     "output_type": "execute_result"
    }
   ],
   "source": [
    "response"
   ]
  },
  {
   "cell_type": "code",
   "execution_count": 27,
   "id": "5a707726",
   "metadata": {},
   "outputs": [
    {
     "name": "stdout",
     "output_type": "stream",
     "text": [
      " Generative AI can have applications in customer self-service, IT, audit, human resources, operations, and many more business functions.\n",
      "\n",
      "\n",
      "Sources:\n",
      "../data/GenAIReports/McKinsey-the-economic-potential-of-generative-ai-the-next-productivity-frontier-vf.pdf page #: 16.0\n",
      "../data/GenAIReports/McKinsey-the-economic-potential-of-generative-ai-the-next-productivity-frontier-vf.pdf page #: 16.0\n",
      "../data/GenAIReports/KPMG-generative-ai-models-the-risks-and-potential-rewards-in-business.pdf page #: 6.0\n",
      "../data/GenAIReports/KPMG-generative-ai-models-the-risks-and-potential-rewards-in-business.pdf page #: 6.0\n"
     ]
    }
   ],
   "source": [
    "parse_response(response)"
   ]
  },
  {
   "cell_type": "code",
   "execution_count": 28,
   "id": "1d704006",
   "metadata": {},
   "outputs": [
    {
     "data": {
      "text/plain": [
       "[Document(page_content='The following are examples of the operational improvements generative AI can have for \\nspecific use cases:\\n —Cu\\nstomer self-service. Generative AI–fueled chatbots can give immediate and \\npersonalized responses to complex customer inquiries regardless of the language or location of the customer. By improving the quality and effectiveness of interactions via automated channels, generative AI could automate responses to a higher percentage of customer inquiries, enabling customer care teams to take on inquiries that can only be resolved by a human agent. Our research found that roughly half of customer contacts made by banking, telecommunications, and utilities companies in North America are already handled by machines, including but not exclusively AI. We estimate that generative AI could further reduce the volume of human-serviced contacts by up to 50 percent, depending on a company’s existing level of automation. \\n —R', metadata={'page': 16.0, 'source': '../data/GenAIReports/McKinsey-the-economic-potential-of-generative-ai-the-next-productivity-frontier-vf.pdf'}),\n",
       " Document(page_content='The following are examples of the operational improvements generative AI can have for \\nspecific use cases:\\n —Cu\\nstomer self-service. Generative AI–fueled chatbots can give immediate and \\npersonalized responses to complex customer inquiries regardless of the language or location of the customer. By improving the quality and effectiveness of interactions via automated channels, generative AI could automate responses to a higher percentage of customer inquiries, enabling customer care teams to take on inquiries that can only be resolved by a human agent. Our research found that roughly half of customer contacts made by banking, telecommunications, and utilities companies in North America are already handled by machines, including but not exclusively AI. We estimate that generative AI could further reduce the volume of human-serviced contacts by up to 50 percent, depending on a company’s existing level of automation. \\n —R', metadata={'page': 16.0, 'source': '../data/GenAIReports/McKinsey-the-economic-potential-of-generative-ai-the-next-productivity-frontier-vf.pdf'}),\n",
       " Document(page_content=\"Generative AI models may also have applications across IT , \\naudit, human resources, operations and many more business functions besides. As you explore these use cases, keep in mind that despite the many opportunities generative AI has to offer, they aren't risk free.05 Potential opportunities and use cases\\n12  h t t p s:/ / w w w .bing .com/new\\n13  h t t p s : / /openai.com/researc h/gpt-4\\n14   h t t p s:/ / w w w .theguardian.com/tec hnology/2023/feb/02/chatgpt-100-million-users-open-ai-fastest-growing-appThe basic version of ChatGPT isn’t connected to the internet and was trained on online material up to September 2021 meaning its knowledge isn’t up to date. Newer implementations released to a small number of premium developers, such as a plugin to Bing’s search engine,\\n12 are \\nconnected to the internet and contain more recent content.\\nChatGPT is an example of artificial narrow intelligence (ANI).\", metadata={'page': 6.0, 'source': '../data/GenAIReports/KPMG-generative-ai-models-the-risks-and-potential-rewards-in-business.pdf'}),\n",
       " Document(page_content=\"Generative AI models may also have applications across IT , \\naudit, human resources, operations and many more business functions besides. As you explore these use cases, keep in mind that despite the many opportunities generative AI has to offer, they aren't risk free.05 Potential opportunities and use cases\\n12  h t t p s:/ / w w w .bing .com/new\\n13  h t t p s : / /openai.com/researc h/gpt-4\\n14   h t t p s:/ / w w w .theguardian.com/tec hnology/2023/feb/02/chatgpt-100-million-users-open-ai-fastest-growing-appThe basic version of ChatGPT isn’t connected to the internet and was trained on online material up to September 2021 meaning its knowledge isn’t up to date. Newer implementations released to a small number of premium developers, such as a plugin to Bing’s search engine,\\n12 are \\nconnected to the internet and contain more recent content.\\nChatGPT is an example of artificial narrow intelligence (ANI).\", metadata={'page': 6.0, 'source': '../data/GenAIReports/KPMG-generative-ai-models-the-risks-and-potential-rewards-in-business.pdf'})]"
      ]
     },
     "execution_count": 28,
     "metadata": {},
     "output_type": "execute_result"
    }
   ],
   "source": [
    "response[\"source_documents\"]"
   ]
  },
  {
   "cell_type": "markdown",
   "id": "1293e5c8",
   "metadata": {},
   "source": [
    "### Let's accomplish the same task using a vectorstore agent"
   ]
  },
  {
   "cell_type": "code",
   "execution_count": 29,
   "id": "406233b2",
   "metadata": {},
   "outputs": [],
   "source": [
    "# Import the dependencies\n",
    "\n",
    "from langchain.agents.agent_toolkits import (\n",
    "    create_vectorstore_agent,\n",
    "    VectorStoreToolkit,\n",
    "    VectorStoreInfo,\n",
    ")"
   ]
  },
  {
   "cell_type": "code",
   "execution_count": 30,
   "id": "22979ade",
   "metadata": {},
   "outputs": [],
   "source": [
    "# Set up the vectorstore info\n",
    "\n",
    "vectorstore_info = VectorStoreInfo(\n",
    "    name=\"Generative AI Reports\",\n",
    "    description=\"Reports on the State and Trends in Generative AI\",\n",
    "    vectorstore= docsearch,\n",
    ")"
   ]
  },
  {
   "cell_type": "code",
   "execution_count": 31,
   "id": "fe255d28",
   "metadata": {},
   "outputs": [],
   "source": [
    "# Setup the VectorStoreToolkit and VectorStore Agent\n",
    "\n",
    "toolkit = VectorStoreToolkit(vectorstore_info=vectorstore_info)\n",
    "agent_executor = create_vectorstore_agent(llm=llm, toolkit=toolkit, verbose=False)"
   ]
  },
  {
   "cell_type": "code",
   "execution_count": 32,
   "id": "711ec5ea",
   "metadata": {},
   "outputs": [
    {
     "name": "stdout",
     "output_type": "stream",
     "text": [
      "List all the use cases for Generative AI? List the sources.\n"
     ]
    }
   ],
   "source": [
    "# Add the string to ask for source\n",
    "\n",
    "query = query + \" List the sources.\"\n",
    "print (query)"
   ]
  },
  {
   "cell_type": "code",
   "execution_count": 33,
   "id": "6738c833",
   "metadata": {},
   "outputs": [],
   "source": [
    "# Run the agent\n",
    "\n",
    "response = agent_executor.run(query)"
   ]
  },
  {
   "cell_type": "code",
   "execution_count": 34,
   "id": "24c92b99",
   "metadata": {},
   "outputs": [
    {
     "data": {
      "text/plain": [
       "str"
      ]
     },
     "execution_count": 34,
     "metadata": {},
     "output_type": "execute_result"
    }
   ],
   "source": [
    "type(response)"
   ]
  },
  {
   "cell_type": "code",
   "execution_count": 35,
   "id": "3efe0768",
   "metadata": {},
   "outputs": [
    {
     "data": {
      "text/plain": [
       "'Generative AI can be used for customer self-service, IT, audit, human resources, operations, and other business functions. Sources: McKinsey-the-economic-potential-of-generative-ai-the-next-productivity-frontier-vf.pdf, KPMG-generative-ai-models-the-risks-and-potential-rewards-in-business.pdf'"
      ]
     },
     "execution_count": 35,
     "metadata": {},
     "output_type": "execute_result"
    }
   ],
   "source": [
    "response"
   ]
  },
  {
   "cell_type": "code",
   "execution_count": null,
   "id": "46e0a09d",
   "metadata": {},
   "outputs": [],
   "source": []
  }
 ],
 "metadata": {
  "kernelspec": {
   "display_name": "Python 3",
   "language": "python",
   "name": "python3"
  },
  "language_info": {
   "codemirror_mode": {
    "name": "ipython",
    "version": 3
   },
   "file_extension": ".py",
   "mimetype": "text/x-python",
   "name": "python",
   "nbconvert_exporter": "python",
   "pygments_lexer": "ipython3",
   "version": "3.8.8"
  }
 },
 "nbformat": 4,
 "nbformat_minor": 5
}
