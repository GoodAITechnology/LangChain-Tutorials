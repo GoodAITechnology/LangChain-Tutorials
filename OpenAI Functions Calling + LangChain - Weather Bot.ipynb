{
 "cells": [
  {
   "cell_type": "markdown",
   "id": "f684a579",
   "metadata": {},
   "source": [
    "# OpenAI Function Calling - Coding Practice Notebook "
   ]
  },
  {
   "cell_type": "markdown",
   "id": "abc9bb38",
   "metadata": {},
   "source": [
    "#### Using the Function Calling feature gives your chatbot super powers.\n",
    "#### What are these super powers you ask? Ok, let me tell you ....\n",
    "(a) Describe the function to the model so that it can then\n",
    "\n",
    "(b) Output JSON object containing arguments to those calls based on the user query\n",
    "\n",
    "This feature allows for a more reliable method for your app/bot, to be able to interact with various external tools. This is a huge win, to be able to do since it it cuts short a whole bunch of ReAct(or other forms of prompt engineering). This is possible because OpenAI has fine tuned the models to detect when a function needs to be called  and then respond with it's corresponding JSON matching the funtions signature.\n",
    "\n",
    "In this notebook we explore the function calling feature by building a simple weather bot to provide us with the current weather.\n"
   ]
  },
  {
   "cell_type": "markdown",
   "id": "298cca4e",
   "metadata": {},
   "source": [
    "### This is the format let the OpenAI models know, the function format\n",
    "One or more function definition in a JSON format"
   ]
  },
  {
   "cell_type": "code",
   "execution_count": 3,
   "id": "a777048e",
   "metadata": {},
   "outputs": [],
   "source": [
    "\n",
    "# OpenAI function format: https://openai.com/blog/function-calling-and-other-api-updates\n",
    "\n",
    "function_definitions = [\n",
    "        {\n",
    "            \"name\": \"get_current_weather\",\n",
    "                            \"description\": \"Get the current weather in a given location\",\n",
    "                            \"parameters\": {\n",
    "                                \"type\": \"object\",\n",
    "                                \"properties\": {\n",
    "                                    \"location\": {\n",
    "                                        \"type\": \"string\",\n",
    "                                        \"description\": \"The city and state, e.g. San Francisco, CA\",\n",
    "                                    },\n",
    "                                    \"unit\": {\n",
    "                                        \"type\": \"string\",\n",
    "                                        \"description\": \"The temperature unit to use. Infer this from the users location.\",\n",
    "                                        \"enum\": [\"celsius\", \"fahrenheit\"]\n",
    "                                    },\n",
    "                                },\n",
    "                                \"required\": [\"location\", \"unit\"],\n",
    "                    },\n",
    "        }\n",
    "\n",
    "    ]\n"
   ]
  },
  {
   "cell_type": "code",
   "execution_count": null,
   "id": "2d98f5b8",
   "metadata": {},
   "outputs": [],
   "source": [
    "# Make sure we get the latest langchain with the functions calling feature updates\n",
    "\n",
    "!pip install -U langchain"
   ]
  },
  {
   "cell_type": "code",
   "execution_count": 4,
   "id": "65455ac6",
   "metadata": {},
   "outputs": [],
   "source": [
    "# Import Dependencies\n",
    "\n",
    "# For Models\n",
    "from langchain.llms import OpenAI\n",
    "from langchain.chat_models import ChatOpenAI\n",
    "\n",
    "# For Agent and Tools\n",
    "from langchain.agents import AgentType\n",
    "from langchain.agents import initialize_agent, Tool\n",
    "from langchain.tools import BaseTool, format_tool_to_openai_function\n",
    "from pydantic import BaseModel, Field\n",
    "from typing import Optional, Type\n",
    "import json\n",
    "\n",
    "# For Message schemas, \n",
    "from langchain.schema import HumanMessage, AIMessage, ChatMessage, FunctionMessage\n"
   ]
  },
  {
   "cell_type": "code",
   "execution_count": 2,
   "id": "b5da2a60",
   "metadata": {},
   "outputs": [],
   "source": [
    "# Import OpenAI key\n",
    "\n",
    "import os\n",
    "os.environ[\"OPENAI_API_KEY\"] = \"\"\n",
    "OPENAI_API_KEY = os.environ[\"OPENAI_API_KEY\"]\n",
    "\n",
    "# Set model name for this notebook: gpt-3.5-turbo-0613 or gpt-4-0613 or above \n",
    "\n",
    "model_name = \"gpt-3.5-turbo-0613\"\n"
   ]
  },
  {
   "cell_type": "markdown",
   "id": "08af94bf",
   "metadata": {},
   "source": [
    "#### Simple Case\n",
    "\n",
    "We are going to use function calling in conjunction with our model, for figuring out the weather in NYC"
   ]
  },
  {
   "cell_type": "markdown",
   "id": "924aa411",
   "metadata": {},
   "source": [
    "#### Step 1: Write a custom function\n",
    "\n",
    "In this case I have mocked the response data. But in theory one could call an external api to gather this information and return a response."
   ]
  },
  {
   "cell_type": "code",
   "execution_count": 5,
   "id": "0f062fa4",
   "metadata": {},
   "outputs": [],
   "source": [
    "# Lets define a function/tool for getting the weather. In this demo it we mockthe output\n",
    "# In real life, you'd end up calling a library/API such as PWOWM (open weather map) library: \n",
    "# Depending on your app's functionality, you may also, call vendor/external or internal custom APIs\n",
    "\n",
    "def get_current_weather(location, unit):\n",
    "    \n",
    "    # Call an external API to get relevant information (like serpapi, etc)\n",
    "    # Here for the demo we will send a mock response\n",
    "    weather_info = {\n",
    "        \"location\": location,\n",
    "        \"temperature\": \"78\",\n",
    "        \"unit\": unit,\n",
    "        \"forecast\": [\"sunny\", \"with a chance of meatballs\"],\n",
    "    }\n",
    "    return weather_info\n",
    "\n"
   ]
  },
  {
   "cell_type": "markdown",
   "id": "70793adf",
   "metadata": {},
   "source": [
    "Quick test to make sure our function works"
   ]
  },
  {
   "cell_type": "code",
   "execution_count": 7,
   "id": "bc5e0fa6",
   "metadata": {},
   "outputs": [
    {
     "data": {
      "text/plain": [
       "{'location': 'NYC',\n",
       " 'temperature': '78',\n",
       " 'unit': 'Fahrenheit',\n",
       " 'forecast': ['sunny', 'with a chance of meatballs']}"
      ]
     },
     "execution_count": 7,
     "metadata": {},
     "output_type": "execute_result"
    }
   ],
   "source": [
    "test_location = \"NYC\"\n",
    "test_unit = \"Fahrenheit\"\n",
    "\n",
    "function_response = get_current_weather(\n",
    "    test_location,\n",
    "    test_unit\n",
    ")\n",
    "\n",
    "function_response"
   ]
  },
  {
   "cell_type": "markdown",
   "id": "a48b8664",
   "metadata": {},
   "source": [
    "#### Step 2: Create a custom tool that uses our previously defined get_current_weather function\n",
    "\n",
    "Define a pydantic class GetCurrentWeatherCheckInput to define the function arguments that the model should return. \n",
    "Then define the tool while passing the pydantic our previously defined GetCurrentWeatherCheckInput to the tool as argument schema"
   ]
  },
  {
   "cell_type": "code",
   "execution_count": 9,
   "id": "aa5a289d",
   "metadata": {},
   "outputs": [],
   "source": [
    "class GetCurrentWeatherCheckInput(BaseModel):\n",
    "    # Check the input for Weather\n",
    "    location: str = Field(..., description = \"The name of the location name for which we need to find the weather\")\n",
    "    unit: str = Field(..., description = \"The unit for the temperature value\")"
   ]
  },
  {
   "cell_type": "code",
   "execution_count": 10,
   "id": "d60e6eab",
   "metadata": {},
   "outputs": [],
   "source": [
    "class GetCurrentWeatherTool(BaseTool):\n",
    "    \n",
    "    name = \"get_current_weather\"\n",
    "    description = \"Used to find the weather for a given location in said unit\"\n",
    "    \n",
    "    def _run(self, location: str, unit: str):\n",
    "        #print(\"I am running!\")\n",
    "        weather_response = get_current_weather(location, unit)\n",
    "        return weather_response\n",
    "    \n",
    "    def _arun(self, location: str, unit:str):\n",
    "        raise NotImplementedError(\"This tool does not support async\")\n",
    "   \n",
    "    args_schema: Optional[Type[BaseModel]] = GetCurrentWeatherCheckInput\n"
   ]
  },
  {
   "cell_type": "markdown",
   "id": "83216927",
   "metadata": {},
   "source": [
    "#### Step 3: Setup the the tool list as well as the functions list\n",
    "\n",
    "Note: format_tool_to_openai_function is a Langcahin function to convert the tool to the function format expected by the model"
   ]
  },
  {
   "cell_type": "code",
   "execution_count": 11,
   "id": "7ce054a6",
   "metadata": {},
   "outputs": [],
   "source": [
    "tools = [GetCurrentWeatherTool()]\n",
    "functions = [format_tool_to_openai_function(tool_name) for tool_name in tools]"
   ]
  },
  {
   "cell_type": "code",
   "execution_count": 12,
   "id": "308c7178",
   "metadata": {},
   "outputs": [
    {
     "data": {
      "text/plain": [
       "GetCurrentWeatherTool(name='get_current_weather', description='Used to find the weather for a given location in said unit', args_schema=<class '__main__.GetCurrentWeatherCheckInput'>, return_direct=False, verbose=False, callbacks=None, callback_manager=None, handle_tool_error=False)"
      ]
     },
     "execution_count": 12,
     "metadata": {},
     "output_type": "execute_result"
    }
   ],
   "source": [
    "tools[0]"
   ]
  },
  {
   "cell_type": "code",
   "execution_count": 13,
   "id": "57f6e229",
   "metadata": {},
   "outputs": [
    {
     "data": {
      "text/plain": [
       "[{'name': 'get_current_weather',\n",
       "  'description': 'Used to find the weather for a given location in said unit',\n",
       "  'parameters': {'title': 'GetCurrentWeatherCheckInput',\n",
       "   'type': 'object',\n",
       "   'properties': {'location': {'title': 'Location',\n",
       "     'description': 'The name of the location name for which we need to find the weather',\n",
       "     'type': 'string'},\n",
       "    'unit': {'title': 'Unit',\n",
       "     'description': 'The unit for the temperature value',\n",
       "     'type': 'string'}},\n",
       "   'required': ['location', 'unit']}}]"
      ]
     },
     "execution_count": 13,
     "metadata": {},
     "output_type": "execute_result"
    }
   ],
   "source": [
    "functions"
   ]
  },
  {
   "cell_type": "markdown",
   "id": "6b2844fd",
   "metadata": {},
   "source": [
    "#### Step 4: Have the model output back to us the name of the function with its argument \n"
   ]
  },
  {
   "cell_type": "code",
   "execution_count": 14,
   "id": "aa35588b",
   "metadata": {},
   "outputs": [],
   "source": [
    "# Let's imagine that the user lives in NYC\n",
    "query = \"What is the temperature like in NYC?\""
   ]
  },
  {
   "cell_type": "code",
   "execution_count": 15,
   "id": "f511f415",
   "metadata": {},
   "outputs": [
    {
     "data": {
      "text/plain": [
       "AIMessage(content='', additional_kwargs={'function_call': {'name': 'get_current_weather', 'arguments': '{\\n  \"location\": \"New York\",\\n  \"unit\": \"Celsius\"\\n}'}}, example=False)"
      ]
     },
     "execution_count": 15,
     "metadata": {},
     "output_type": "execute_result"
    }
   ],
   "source": [
    "# Let's first create the chat model\n",
    "model = ChatOpenAI(\n",
    "            model = model_name, \n",
    "            temperature = 0,\n",
    "        )\n",
    "\n",
    "response_ai_message = model.predict_messages([HumanMessage(content=query)], functions=functions)\n",
    "\n",
    "response_ai_message"
   ]
  },
  {
   "cell_type": "code",
   "execution_count": 16,
   "id": "5fa89376",
   "metadata": {},
   "outputs": [
    {
     "data": {
      "text/plain": [
       "langchain.schema.AIMessage"
      ]
     },
     "execution_count": 16,
     "metadata": {},
     "output_type": "execute_result"
    }
   ],
   "source": [
    "type(response_ai_message)"
   ]
  },
  {
   "cell_type": "code",
   "execution_count": 17,
   "id": "8a4fd1c4",
   "metadata": {},
   "outputs": [
    {
     "data": {
      "text/plain": [
       "{'name': 'get_current_weather',\n",
       " 'arguments': '{\\n  \"location\": \"New York\",\\n  \"unit\": \"Celsius\"\\n}'}"
      ]
     },
     "execution_count": 17,
     "metadata": {},
     "output_type": "execute_result"
    }
   ],
   "source": [
    "response_ai_message.additional_kwargs['function_call']"
   ]
  },
  {
   "cell_type": "code",
   "execution_count": 18,
   "id": "8189f1b4",
   "metadata": {},
   "outputs": [
    {
     "data": {
      "text/plain": [
       "{'location': 'New York', 'unit': 'Celsius'}"
      ]
     },
     "execution_count": 18,
     "metadata": {},
     "output_type": "execute_result"
    }
   ],
   "source": [
    "import json\n",
    "_args = json.loads(response_ai_message.additional_kwargs['function_call'].get('arguments'))\n",
    "_args"
   ]
  },
  {
   "cell_type": "code",
   "execution_count": 19,
   "id": "d2455825",
   "metadata": {},
   "outputs": [
    {
     "data": {
      "text/plain": [
       "GetCurrentWeatherTool(name='get_current_weather', description='Used to find the weather for a given location in said unit', args_schema=<class '__main__.GetCurrentWeatherCheckInput'>, return_direct=False, verbose=False, callbacks=None, callback_manager=None, handle_tool_error=False)"
      ]
     },
     "execution_count": 19,
     "metadata": {},
     "output_type": "execute_result"
    }
   ],
   "source": [
    "tools[0]"
   ]
  },
  {
   "cell_type": "markdown",
   "id": "87abbe6c",
   "metadata": {},
   "source": [
    "#### Step 5: Run the inferred tool with the inferred arguments"
   ]
  },
  {
   "cell_type": "code",
   "execution_count": 20,
   "id": "8af44745",
   "metadata": {},
   "outputs": [
    {
     "data": {
      "text/plain": [
       "{'location': 'New York',\n",
       " 'temperature': '78',\n",
       " 'unit': 'Celsius',\n",
       " 'forecast': ['sunny', 'with a chance of meatballs']}"
      ]
     },
     "execution_count": 20,
     "metadata": {},
     "output_type": "execute_result"
    }
   ],
   "source": [
    "tool_result = tools[0](_args)\n",
    "tool_result"
   ]
  },
  {
   "cell_type": "markdown",
   "id": "130eeade",
   "metadata": {},
   "source": [
    "#### Step 6: Set FunctionMessage \n",
    "\n",
    "We do this inorder to get the final response from the model in natural language"
   ]
  },
  {
   "cell_type": "code",
   "execution_count": null,
   "id": "fba62a3e",
   "metadata": {},
   "outputs": [],
   "source": [
    "FunctionMessage(name = \"get_current_weather\", content=str(tool_result))\n",
    "             "
   ]
  },
  {
   "cell_type": "markdown",
   "id": "49205afe",
   "metadata": {},
   "source": [
    "#### Step 7: Get the final response from the model"
   ]
  },
  {
   "cell_type": "code",
   "execution_count": 21,
   "id": "a2059f53",
   "metadata": {},
   "outputs": [
    {
     "data": {
      "text/plain": [
       "AIMessage(content='The temperature in NYC is currently 78 degrees Celsius. The weather forecast is sunny, with a chance of meatballs.', additional_kwargs={}, example=False)"
      ]
     },
     "execution_count": 21,
     "metadata": {},
     "output_type": "execute_result"
    }
   ],
   "source": [
    "response_final = model.predict_messages(\n",
    "                    [\n",
    "                        HumanMessage(content= query),\n",
    "                        response_ai_message,\n",
    "                        FunctionMessage(name='get_current_weather',content=str(tool_result)),\n",
    "                    ], \n",
    "                    functions=functions\n",
    "                )\n",
    "response_final"
   ]
  },
  {
   "cell_type": "markdown",
   "id": "bbf1c244",
   "metadata": {},
   "source": [
    "### Getting a similar result using Agent"
   ]
  },
  {
   "cell_type": "markdown",
   "id": "335cf559",
   "metadata": {},
   "source": [
    "#### Set up the model"
   ]
  },
  {
   "cell_type": "code",
   "execution_count": 22,
   "id": "de2be731",
   "metadata": {},
   "outputs": [],
   "source": [
    "\n",
    "model_using_agent = ChatOpenAI(temperature = 0, model = model_name)\n"
   ]
  },
  {
   "cell_type": "markdown",
   "id": "880098ce",
   "metadata": {},
   "source": [
    "#### Initailize the agent, pass the tools"
   ]
  },
  {
   "cell_type": "code",
   "execution_count": 23,
   "id": "44284be3",
   "metadata": {},
   "outputs": [],
   "source": [
    "agent_for_function = initialize_agent(\n",
    "                        tools,\n",
    "                        model_using_agent,\n",
    "                        agent=AgentType.OPENAI_FUNCTIONS,\n",
    "                        verbose=True\n",
    "                    )"
   ]
  },
  {
   "cell_type": "markdown",
   "id": "4fc44127",
   "metadata": {},
   "source": [
    "#### Run the agent"
   ]
  },
  {
   "cell_type": "code",
   "execution_count": 24,
   "id": "e7c758ee",
   "metadata": {},
   "outputs": [
    {
     "name": "stdout",
     "output_type": "stream",
     "text": [
      "\n",
      "\n",
      "\u001b[1m> Entering new  chain...\u001b[0m\n",
      "\u001b[32;1m\u001b[1;3m\n",
      "Invoking: `get_current_weather` with `{'location': 'New York', 'unit': 'celsius'}`\n",
      "\n",
      "\n",
      "\u001b[0m\u001b[36;1m\u001b[1;3m{'location': 'New York', 'temperature': '78', 'unit': 'celsius', 'forecast': ['sunny', 'with a chance of meatballs']}\u001b[0m\u001b[32;1m\u001b[1;3mThe current temperature in New York City is 78 degrees Celsius. The weather forecast for today is sunny, with a chance of meatballs.\u001b[0m\n",
      "\n",
      "\u001b[1m> Finished chain.\u001b[0m\n"
     ]
    },
    {
     "data": {
      "text/plain": [
       "'The current temperature in New York City is 78 degrees Celsius. The weather forecast for today is sunny, with a chance of meatballs.'"
      ]
     },
     "execution_count": 24,
     "metadata": {},
     "output_type": "execute_result"
    }
   ],
   "source": [
    "agent_for_function.run(query)"
   ]
  },
  {
   "cell_type": "code",
   "execution_count": null,
   "id": "666b5c46",
   "metadata": {},
   "outputs": [],
   "source": []
  }
 ],
 "metadata": {
  "kernelspec": {
   "display_name": "Python 3",
   "language": "python",
   "name": "python3"
  },
  "language_info": {
   "codemirror_mode": {
    "name": "ipython",
    "version": 3
   },
   "file_extension": ".py",
   "mimetype": "text/x-python",
   "name": "python",
   "nbconvert_exporter": "python",
   "pygments_lexer": "ipython3",
   "version": "3.8.8"
  }
 },
 "nbformat": 4,
 "nbformat_minor": 5
}
